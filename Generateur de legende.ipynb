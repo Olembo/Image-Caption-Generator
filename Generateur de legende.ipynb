{
 "cells": [
  {
   "cell_type": "code",
   "execution_count": 1,
   "metadata": {},
   "outputs": [],
   "source": [
    "import string\n",
    "import numpy as np\n",
    "from PIL import Image\n",
    "import os\n",
    "from pickle import dump, load"
   ]
  },
  {
   "cell_type": "code",
   "execution_count": 2,
   "metadata": {},
   "outputs": [
    {
     "name": "stderr",
     "output_type": "stream",
     "text": [
      "Using TensorFlow backend.\n"
     ]
    },
    {
     "data": {
      "application/vnd.jupyter.widget-view+json": {
       "model_id": "ec5dcdc4d9be4ed6b2dd15e7f2848cdc",
       "version_major": 2,
       "version_minor": 0
      },
      "text/plain": [
       "HBox(children=(IntProgress(value=1, bar_style='info', max=1), HTML(value='')))"
      ]
     },
     "metadata": {},
     "output_type": "display_data"
    },
    {
     "name": "stderr",
     "output_type": "stream",
     "text": [
      "/home/richmond/anaconda3/lib/python3.7/site-packages/tqdm/std.py:648: FutureWarning: The Panel class is removed from pandas. Accessing it from the top-level namespace will also be removed in the next version\n",
      "  from pandas import Panel\n"
     ]
    }
   ],
   "source": [
    "from keras.applications.xception import xception, preprocess_input\n",
    "from keras.applications import Xception\n",
    "from keras.preprocessing.image import load_img, img_to_array\n",
    "from keras.preprocessing.text import Tokenizer\n",
    "from keras.preprocessing.sequence import pad_sequences\n",
    "from keras.utils import to_categorical\n",
    "from keras.layers.merge import add\n",
    "from keras.models import Model, load_model\n",
    "from keras.layers import Input, Dense, LSTM, Embedding, Dropout\n",
    "\n",
    "# petite bibliothèque pour voir le processus des boucles\n",
    "from tqdm import tqdm_notebook as tqdm\n",
    "tqdm().pandas()"
   ]
  },
  {
   "cell_type": "code",
   "execution_count": 3,
   "metadata": {},
   "outputs": [],
   "source": [
    "# Chargement d'un fichier texte en mémoire\n",
    "def load_doc(filename):\n",
    "    #Ouverture du fichier en lecture seule\n",
    "    file = open (filename, 'r')\n",
    "    text = file.read()\n",
    "    file.close()\n",
    "    return text"
   ]
  },
  {
   "cell_type": "code",
   "execution_count": 4,
   "metadata": {},
   "outputs": [],
   "source": [
    "#obtenir toutes les images avec leurs légendes\n",
    "def all_img_captions(filename):\n",
    "    file = load_doc(filename)\n",
    "    captions = file.split('\\n')\n",
    "    descriptions = {}\n",
    "    for caption in captions[:-1]:\n",
    "        img, caption = caption.split('\\t')\n",
    "        if img [:-2] not in descriptions:\n",
    "            descriptions[img[:-2]] = []\n",
    "        else:\n",
    "            descriptions[img[:-2]].append(caption)\n",
    "            \n",
    "    return descriptions"
   ]
  },
  {
   "cell_type": "code",
   "execution_count": 5,
   "metadata": {},
   "outputs": [],
   "source": [
    "#Nettoyage des données, suppression des signes de ponctuation et des mots contenant des nombres\n",
    "def cleaning_text(captions):\n",
    "    table = str.maketrans('', '' , string.punctuation)\n",
    "    for img,caps in captions.items():\n",
    "        for i, img_caption in enumerate(caps):\n",
    "            \n",
    "            img_caption.replace(\"-\", \" \")\n",
    "            desc = img_caption.split()\n",
    "            \n",
    "            #convertit en minuscules\n",
    "            desc = [word.lower() for word in desc]\n",
    "            \n",
    "            #supprimer la ponctuation de chaque token\n",
    "            desc = [word.translate(table) for word in desc]\n",
    "            \n",
    "            #remove hanging 's and a\n",
    "            desc = [word for word in desc if (len(word)>1)]\n",
    "            \n",
    "            #remove tokens with numbers in them\n",
    "            desc = [word for word in desc if (word.isalpha())]\n",
    "            \n",
    "            #reconvertir en chaîne\n",
    "            img_caption = ' '.join(desc)\n",
    "            captions[img][i] = img_caption\n",
    "            \n",
    "    return captions"
   ]
  },
  {
   "cell_type": "code",
   "execution_count": 6,
   "metadata": {},
   "outputs": [],
   "source": [
    "def text_vocabulary(descriptions):\n",
    "    #construire le vocabulaire de tous les mots uniques\n",
    "    vocab = set()\n",
    "    \n",
    "    for key in descriptions.keys():\n",
    "        [vocab.update(d.split()) for d in descriptions[key]]\n",
    "        \n",
    "    return vocab"
   ]
  },
  {
   "cell_type": "code",
   "execution_count": 7,
   "metadata": {},
   "outputs": [],
   "source": [
    "#Toutes les descriptions dans un seul fichier\n",
    "def save_descriptions(descriptions, filename):\n",
    "    lines = list()\n",
    "    for key, desc_list in descriptions.items():\n",
    "        for desc in desc_list:\n",
    "            lines.append(key + '\\t' + desc)\n",
    "    data = \"\\n\".join(lines)\n",
    "    file = open (filename, \"w\")\n",
    "    file.write(data)\n",
    "    file.close()"
   ]
  },
  {
   "cell_type": "code",
   "execution_count": 8,
   "metadata": {},
   "outputs": [],
   "source": [
    "#définissez ces chemins en fonction du dossier de projet dans votre système\n",
    "dataset_text = \"/home/richmond/Desktop/PROJETS/Image Caption Generator/Flickr8k_text\"\n",
    "\n",
    "dataset_images = \"/home/richmond/Desktop/PROJETS/Image Caption Generator/Flickr8k_Dataset/Flicker8k_Dataset\""
   ]
  },
  {
   "cell_type": "code",
   "execution_count": 9,
   "metadata": {},
   "outputs": [],
   "source": [
    "caption = load_doc(\"Flickr8k_text/\" + \"Flickr8k.token.txt\")"
   ]
  },
  {
   "cell_type": "code",
   "execution_count": 10,
   "metadata": {},
   "outputs": [
    {
     "name": "stdout",
     "output_type": "stream",
     "text": [
      "1\n"
     ]
    }
   ],
   "source": [
    "for caption in caption[:-1]:\n",
    "    print(caption)\n",
    "    break"
   ]
  },
  {
   "cell_type": "code",
   "execution_count": 11,
   "metadata": {},
   "outputs": [],
   "source": [
    "descriptions = {}\n",
    "descriptions['2']= []"
   ]
  },
  {
   "cell_type": "code",
   "execution_count": 12,
   "metadata": {},
   "outputs": [],
   "source": [
    "file = load_doc(\"Flickr8k_text/\" + \"Flickr8k.token.txt\")\n",
    "captions = file.split('\\n')\n",
    "descriptions = {}"
   ]
  },
  {
   "cell_type": "code",
   "execution_count": 13,
   "metadata": {},
   "outputs": [
    {
     "name": "stdout",
     "output_type": "stream",
     "text": [
      "Longueur des descriptions =  8092\n",
      "Longueur des vocabulaires 7951\n"
     ]
    }
   ],
   "source": [
    "#nous préparons nos données textuelles\n",
    "filename = \"Flickr8k_text/\" + \"Flickr8k.token.txt\"\n",
    "\n",
    "#chargement du fichier contenant toutes les données\n",
    "\n",
    "#les mapper dans le dictionnaire de descriptions img à 5 légendes\n",
    "descriptions = all_img_captions (filename)\n",
    "print(\"Longueur des descriptions = \", len(descriptions))\n",
    "\n",
    "#nettoyage des descriptions\n",
    "clean_descriptions = cleaning_text(descriptions)\n",
    "\n",
    "#construire la description\n",
    "vocabulary = text_vocabulary(clean_descriptions)\n",
    "print(\"Longueur des vocabulaires\", len(vocabulary))\n",
    "\n",
    "#enregistrer chaque description dans un fichier\n",
    "save_descriptions(clean_descriptions, \"descriptions.txt\")"
   ]
  },
  {
   "cell_type": "code",
   "execution_count": 14,
   "metadata": {},
   "outputs": [
    {
     "data": {
      "application/vnd.jupyter.widget-view+json": {
       "model_id": "e14a97354dd04660af591891a71d521f",
       "version_major": 2,
       "version_minor": 0
      },
      "text/plain": [
       "HBox(children=(IntProgress(value=0, max=8091), HTML(value='')))"
      ]
     },
     "metadata": {},
     "output_type": "display_data"
    },
    {
     "name": "stdout",
     "output_type": "stream",
     "text": [
      "\n"
     ]
    }
   ],
   "source": [
    "# Extrayons maintenant les fonctionnalités de notre modèle xception\n",
    "def extract_features(directory):\n",
    "        model = Xception( include_top=False, pooling='avg' )\n",
    "        features = {}\n",
    "        for img in tqdm(os.listdir(directory)):\n",
    "            filename = directory + \"/\" + img\n",
    "            image = Image.open(filename)\n",
    "            image = image.resize((299,299))\n",
    "            image = np.expand_dims(image, axis=0)\n",
    "            #image = preprocess_input(image)\n",
    "            image = image/127.5\n",
    "            image = image - 1.0\n",
    "            feature = model.predict(image)\n",
    "            features[img] = feature\n",
    "        return features\n",
    "#2048 feature vector\n",
    "features = extract_features(dataset_images)\n",
    "dump(features, open(\"features.p\",\"wb\"))"
   ]
  },
  {
   "cell_type": "code",
   "execution_count": 15,
   "metadata": {},
   "outputs": [],
   "source": [
    "features = load(open(\"features.p\", \"rb\"))"
   ]
  },
  {
   "cell_type": "code",
   "execution_count": 16,
   "metadata": {},
   "outputs": [],
   "source": [
    "# charger les donnees\n",
    "def load_photos (filename):\n",
    "    file = load_doc(filename)\n",
    "    photos = file.split(\"\\n\")[:-1]\n",
    "    return photos"
   ]
  },
  {
   "cell_type": "code",
   "execution_count": 17,
   "metadata": {},
   "outputs": [],
   "source": [
    "def load_clean_descriptions(filename, photos):\n",
    "    #Chargement de clean_descriptions\n",
    "    file = load_doc(filename)\n",
    "    descriptions = {}\n",
    "    for line in file.split(\"\\n\"):\n",
    "        \n",
    "        words = line.split()\n",
    "        if len (words) < 1:\n",
    "            continue\n",
    "            \n",
    "        image, image_caption = words[0], words[1:]\n",
    "        \n",
    "        if image in photos:\n",
    "            if image not in descriptions:\n",
    "                descriptions[image] = []\n",
    "            desc = '<start>' + \" \".join(image_caption) + '<end>'\n",
    "            descriptions[image].append(desc)\n",
    "            \n",
    "    return descriptions"
   ]
  },
  {
   "cell_type": "code",
   "execution_count": 18,
   "metadata": {},
   "outputs": [],
   "source": [
    "def load_features(photos):\n",
    "    #loading all features\n",
    "    all_features = load(open(\"features.p\", \"rb\"))\n",
    "    #selectinng only needed features\n",
    "    features = {k:all_features[k] for k in photos}\n",
    "    return features\n",
    "\n",
    "filename = dataset_text + \"/\" + \"Flickr_8k.trainImages.txt\"\n",
    "\n",
    "train_imgs = load_photos(filename)\n",
    "train_descriptions = load_clean_descriptions(\"descriptions.txt\", train_imgs)\n",
    "train_features = load_features(train_imgs)"
   ]
  },
  {
   "cell_type": "code",
   "execution_count": 19,
   "metadata": {},
   "outputs": [
    {
     "data": {
      "text/plain": [
       "32"
      ]
     },
     "execution_count": 19,
     "metadata": {},
     "output_type": "execute_result"
    }
   ],
   "source": [
    "#Cconverting dictionary to clean list of descriptions\n",
    "def dict_to_list(descriptions):\n",
    "    all_desc = []\n",
    "    for key in descriptions.keys():\n",
    "        [all_desc.append(d) for d in descriptions[key]]\n",
    "    return all_desc\n",
    "\n",
    "#creating tokenizer class\n",
    "# this will vectorise text corpus\n",
    "#  each integerwill represent token in dictionary\n",
    "\n",
    "from keras.preprocessing.text import Tokenizer\n",
    "\n",
    "def create_tokenizer(descriptions):\n",
    "    desc_list = dict_to_list(descriptions)\n",
    "    tokenizer = Tokenizer()\n",
    "    tokenizer.fit_on_texts(desc_list)\n",
    "    return tokenizer\n",
    "\n",
    "# give each word an index, and store that into tokenizer.p pickle file\n",
    "tokenizer = create_tokenizer(train_descriptions)\n",
    "dump(tokenizer, open('tokenizer.p', 'wb'))\n",
    "vocab_size = len(tokenizer.word_index) + 1\n",
    "vocab_size\n",
    "\n",
    "#calcule longueur maximale des descriptions\n",
    "def max_lenght(descriptions):\n",
    "    desc_list = dict_to_list(descriptions)\n",
    "    return max(len(d.split()) for d in desc_list)\n",
    "\n",
    "max_lenght = max_lenght(descriptions)\n",
    "max_lenght"
   ]
  },
  {
   "cell_type": "code",
   "execution_count": 20,
   "metadata": {},
   "outputs": [],
   "source": [
    "#créer des paires de séquences d'entrée-sortie à partir de la description de l'image\n",
    "\n",
    "#générateur de données, utilisé par model.fit_generator()\n",
    "def data_generator(descriptions, features, tokenizer, max_lenght):\n",
    "    while 1:\n",
    "        for key, descriptions_list in descriptions.items():\n",
    "            #récupérer des fonctionnalités photo\n",
    "            feature = features[key][0]\n",
    "            #input_image, input_sequence, output_word = create_sequences(tokenizer, max_lenght, descriptions_list, feature)\n",
    "            #yield [[input_image, input_sequence], output_word]\n",
    "            \n",
    "        def create_sequences(tokenizer, max_lenght, desc_list, feature):\n",
    "            X1, X2, y = list(), list(), list()\n",
    "            \n",
    "            #parcourir chaque description de l'image\n",
    "            for desc in desc_list:\n",
    "                #encoder la séquence\n",
    "                seq = tokenizer.texts_to_sequences([desc])[0]\n",
    "                \n",
    "                #diviser une séquence en plusieurs paires X, y\n",
    "                for i in range (1, len(seq)):\n",
    "                    #divisé en paire d'entrée et de sortie\n",
    "                    in_seq, out_seq = seq[:i], seq[i]\n",
    "                    \n",
    "                    #séquence d'entrée des pads\n",
    "                    in_seq = pad_sequences([in_seq], maxlen = max_lenght) [0]\n",
    "                    \n",
    "                    #encoder la séquence de sortie\n",
    "                    out_seq = to_categorical([out_seq], num_classes = vocab_size)[0]\n",
    "                    \n",
    "                    #store\n",
    "                    X1.append(feature)\n",
    "                    X2.append(in_seq)\n",
    "                    y.append(out_seq)\n",
    "                \n",
    "                return np.array(X1), np.array(X2), np.array(y)\n",
    "        input_image, input_sequence, output_word = create_sequences(tokenizer, max_lenght, descriptions_list, feature)\n",
    "        yield [[input_image, input_sequence], output_word]            \n",
    "    #vous pouvez vérifier la forme de l'entrée et de la sortie de votre modèle\n",
    "    [a,b],c = next(data_generator (train_descriptions, features, tokenizer, max_lenght))\n",
    "    \n",
    "    a.shape, b.shape, c.shape\n",
    "    #((47, 2048), (47, 32), (47, 7577))"
   ]
  },
  {
   "cell_type": "code",
   "execution_count": 21,
   "metadata": {},
   "outputs": [],
   "source": [
    "from keras.utils import plot_model\n",
    "from keras.engine import input_layer\n",
    "\n",
    "#définir le modèle de sous-titrage\n",
    "def define_model(vocab_size, max_lenght):\n",
    "    \n",
    "    #fonctionnalités du modèle CNN pressées de 2048 à 256 nœuds\n",
    "    inputs1 = Input(shape = (2048, ))\n",
    "    fe1 = Dropout(0.5) (inputs1)\n",
    "    fe2 = Dense(256, activation='relu')(fe1)\n",
    "    \n",
    "    #Modèle de séquence LSTM\n",
    "    inputs2 = Input(shape= (max_lenght,))\n",
    "    se1 = Embedding(vocab_size, 256, mask_zero=True) (inputs2)\n",
    "    se2 = Dropout(0.5) (se1)\n",
    "    se3 = LSTM(256)(se2)\n",
    "    \n",
    "    #Fusion des deux modèles\n",
    "    decoder1 = add([fe2, se3])\n",
    "    decoder2 = Dense(256, activation='relu') (decoder1)\n",
    "    outputs = Dense(vocab_size, activation='softmax')(decoder2)\n",
    "    \n",
    "    #attachez-les ensemble [image, seq] [word]\n",
    "    model = Model(inputs = [inputs1, inputs2], outputs=outputs)\n",
    "    model.compile(loss='categorical_crossentropy', optimizer='adam')\n",
    "    \n",
    "    #résumer le modèle\n",
    "    print(model.summary())\n",
    "    plot_model(model, to_file='model.png', show_shapes=True)\n",
    "    \n",
    "    return model"
   ]
  },
  {
   "cell_type": "code",
   "execution_count": null,
   "metadata": {},
   "outputs": [],
   "source": [
    "#former notre modèle\n",
    "print('Dataset: ', len(train_imgs))\n",
    "print('Descriptions: train =', len(train_descriptions))\n",
    "print('Photos: train =', len(train_features))\n",
    "print('vocabulary Size:', vocab_size)\n",
    "print('Description Lenght:', max_lenght)\n",
    "\n",
    "model = define_model(vocab_size, max_lenght)\n",
    "epochs = 100\n",
    "\n",
    "\n",
    "\n",
    "steps = len(train_descriptions)\n",
    "\n",
    "#faire un répertoire des modèles pour sauvegarder nos modèles\n",
    "if not os.path.exists(\"models\"):\n",
    "    os.mkdir(\"models\")\n",
    "\n",
    "for i in range(epochs):\n",
    "    generator = data_generator(train_descriptions, train_features, tokenizer, max_lenght)\n",
    "    model.fit_generator(generator, epochs=1, steps_per_epoch = steps, verbose = 1)\n",
    "    model.save(\"models/model_\" + str(i) + \".h5\")"
   ]
  }
 ],
 "metadata": {
  "kernelspec": {
   "display_name": "Python 3",
   "language": "python",
   "name": "python3"
  },
  "language_info": {
   "codemirror_mode": {
    "name": "ipython",
    "version": 3
   },
   "file_extension": ".py",
   "mimetype": "text/x-python",
   "name": "python",
   "nbconvert_exporter": "python",
   "pygments_lexer": "ipython3",
   "version": "3.7.4"
  }
 },
 "nbformat": 4,
 "nbformat_minor": 2
}
